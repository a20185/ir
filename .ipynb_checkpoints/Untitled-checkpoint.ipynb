{
 "cells": [
  {
   "cell_type": "code",
   "execution_count": 1,
   "metadata": {
    "collapsed": false
   },
   "outputs": [],
   "source": [
    "#encoding=utf-8\n",
    "# 基本部件的引用声明\n",
    "import sys\n",
    "import re\n",
    "import codecs\n",
    "import os\n",
    "import shutil\n",
    "import jieba\n",
    "import jieba.analyse\n",
    "import graphlab\n",
    "import numpy as np\n",
    "from array import array\n",
    "from collections import Counter"
   ]
  },
  {
   "cell_type": "markdown",
   "metadata": {},
   "source": [
    "### 首先是从文件中的读取以及分词\n",
    "\n",
    "\n",
    "此处用的是 *Jieba* 中文分词器，在这里我们将中文文本分词之后以空格分隔各词然后输出到目标文件夹\n",
    "\n",
    "函数定义中需传入 **文件目录的绝对地址** 以及 *文本总数量*\n",
    "\n",
    "格式要求：\n",
    "   * 文本文件以UTF-8格式编码，文本名称为 'xxxx(四位数字).txt'\n",
    "   * 传入目标目录为绝对地址\n",
    "   * 文本总数量为需要读取的文本数量\n",
    "   * 文件源目录存在时，请确保 '传入目录名_Result' 文件夹存在"
   ]
  },
  {
   "cell_type": "code",
   "execution_count": 2,
   "metadata": {
    "collapsed": false
   },
   "outputs": [],
   "source": [
    "def read_file_cut(path , file_count):\n",
    "    source_path = path + \"/\"\n",
    "    result_path = path + \"_Result/\"\n",
    "    if os.path.isdir(result_path):\n",
    "        shutil.rmtree(result_path, True)\n",
    "    os.makedirs(result_path)\n",
    "    num = 1\n",
    "\n",
    "    while num in range(file_count):\n",
    "        name = \"%04d\" % num \n",
    "        fileName = source_path + str(name) + \".txt\"\n",
    "        resName = result_path + str(name) + \".txt\"\n",
    "        source = open(fileName, 'r')\n",
    "\n",
    "        if os.path.exists(resName):\n",
    "            os.remove(resName)\n",
    "        result = codecs.open(resName, 'w', 'utf-8')\n",
    "        line = source.readline()\n",
    "        line = line.rstrip('\\n')\n",
    "       \n",
    "        while line != \"\":\n",
    "            line = unicode(line, \"utf-8\")\n",
    "            seglist = jieba.cut(line , cut_all = False)  #精确模式\n",
    "            output = ' '.join(list(seglist))         #空格拼接\n",
    "            #print output\n",
    "            result.write(output + '\\r\\n')\n",
    "            line = source.readline()\n",
    "        else:\n",
    "            print 'End file: ' + str(num)\n",
    "\n",
    "        source.close()\n",
    "        result.close()\n",
    "        num = num + 1\n",
    "    else:\n",
    "        print 'End All'"
   ]
  },
  {
   "cell_type": "markdown",
   "metadata": {},
   "source": [
    "### 接下来这个函数是用来提取*词数向量*的\n",
    "\n",
    "* 在分析过程中，可以频繁的调用该函数，需要提供文件的 **绝对路径**\n",
    "* 返回值为一个 *Dict<单词，出现次数>* ,\n",
    "* 返回的Dict没有依据单词出现的次数排序\n",
    "* 如果用向量实现并不现实，所以在此处我们使用Dict来实现词数向量的功能"
   ]
  },
  {
   "cell_type": "code",
   "execution_count": 3,
   "metadata": {
    "collapsed": true
   },
   "outputs": [],
   "source": [
    "def calculate_word_count(path):\n",
    "    txt = open(path , \"r\").read()\n",
    "    \n",
    "    words = [w.strip() for w in txt.split() if w.strip()]\n",
    "    counter = Counter()\n",
    "\n",
    "    for w in words:\n",
    "        counter[w] += 1\n",
    "\n",
    "    kv = counter.items()   #这是键值对的列表\n",
    "    wc_dict = dict(counter)    #这是词典\n",
    "    kv.sort(key = lambda x:x[1] , reverse = True)\n",
    "    #可以用列表做其他事，但只返回词典\n",
    "    return wc_dict"
   ]
  },
  {
   "cell_type": "markdown",
   "metadata": {
    "collapsed": true
   },
   "source": [
    "### 接下来是计算两个词数向量间的距离\n",
    "\n",
    "* euc_dist 计算两个词数向量之间的欧几里得距离 返回值为浮点数\n",
    "* cos_dist 计算两个词数向量之间的余弦距离 返回值为浮点数\n",
    "* jac_dist 计算两个词数向量之间的加权杰卡德距离 返回值为浮点数\n",
    "\n",
    "注意到，此处只是使用计算距离对词数向量进行Brute-Force计算，很容易把一些常见的词错误的认为是判断两个文本文档相类似的函数的主要依据（如 **\"的\"** , **\"和\"** , **\"是\"**  , **\"了\"**  , etc）。如果需要计算更精确的数值，应该使用 **TF-IDF** 来进行计算,使用者在使用前应该调用 *calc_tf_idf* 方法。\n",
    "\n",
    "* 注意, *calc_tf_idf* 方法需要使用者传入所有文本（whole documents）的 **SArray词典集合（SArray of dict）** 返回值为SArray的词典集合类型（每行分别为原来单词的dict的SArray集合）。\n",
    "* 示例使用方法：\n",
    "    ```python\n",
    "        docs['TF_IDF'] = calc_tf_idf(docs['wc_dict'])\n",
    "    ```\n",
    "    这样处理之后还是可以通过\n",
    "    ```python\n",
    "    docs[docs['dName'] == 'docnamehere'][0]\n",
    "    ```\n",
    "    找到某行。"
   ]
  },
  {
   "cell_type": "code",
   "execution_count": 4,
   "metadata": {
    "collapsed": true
   },
   "outputs": [],
   "source": [
    "def euc_dist(dict_a , dict_b):\n",
    "    return graphlab.distances.euclidean(dict_a , dict_b)\n",
    "\n",
    "def cos_dist(dict_a , dict_b):\n",
    "    return graphlab.distances.cosine(dict_a , dict_b)\n",
    "\n",
    "def jac_dist(dict_a , dict_b):\n",
    "    return graphlab.distances.weighted_jaccard(dict_a , dict_b)\n",
    "\n",
    "def calc_tf_idf(whole_document_dict):\n",
    "    return graphlab.text_analytics.tf_idf(whole_document_dict)"
   ]
  },
  {
   "cell_type": "markdown",
   "metadata": {},
   "source": [
    "### 给某一个特定的新闻找到10个左右Nearnest Neighbour\n",
    "\n",
    "由于我们在数据库中存放的是微博，所以我们简单的给定 *新闻文档* ，然后给其适配最适合的10个微博。"
   ]
  },
  {
   "cell_type": "code",
   "execution_count": 5,
   "metadata": {
    "collapsed": false
   },
   "outputs": [],
   "source": [
    "# 不管传入的是否是TF-IDF，要求传的新闻词数向量为Dictionary，whole_document_vec为dict的SFrame\n",
    "def find_NN(news_vec , whole_document_vec):\n",
    "    process_vec = graphlab.SFrame()\n",
    "    process_vec['original'] = whole_document_vec\n",
    "    result_value = []\n",
    "    result_id = []\n",
    "\n",
    "    for i in range(len(whole_document_vec)):\n",
    "        result_id.append(i)\n",
    "        cos_val = euc_dist(whole_document_vec[i] , news_vec);\n",
    "        result_value.append(cos_val)\n",
    "\n",
    "    process_vec['cosine'] = result_value\n",
    "    process_vec['id'] = result_id\n",
    "\n",
    "    my = process_vec.sort('cosine' , ascending=True)\n",
    "\n",
    "    if len(process_vec) < 10:\n",
    "        return my\n",
    "    else:\n",
    "        return my[0:10]"
   ]
  },
  {
   "cell_type": "markdown",
   "metadata": {},
   "source": [
    "## 基础处理的函数部分完成，下面测试函数的正确性"
   ]
  },
  {
   "cell_type": "code",
   "execution_count": 6,
   "metadata": {
    "collapsed": false
   },
   "outputs": [
    {
     "name": "stderr",
     "output_type": "stream",
     "text": [
      "Building prefix dict from the default dictionary ...\n",
      "2016-07-15 17:53:25,488 [DEBUG] jieba, 111: Building prefix dict from the default dictionary ...\n",
      "Loading model from cache /tmp/jieba.cache\n",
      "2016-07-15 17:53:25,491 [DEBUG] jieba, 131: Loading model from cache /tmp/jieba.cache\n",
      "Loading model cost 0.480 seconds.\n",
      "2016-07-15 17:53:25,970 [DEBUG] jieba, 163: Loading model cost 0.480 seconds.\n",
      "Prefix dict has been built succesfully.\n",
      "2016-07-15 17:53:25,972 [DEBUG] jieba, 164: Prefix dict has been built succesfully.\n"
     ]
    },
    {
     "name": "stdout",
     "output_type": "stream",
     "text": [
      "End file: 1\n",
      "End file: 2\n",
      "End file: 3\n",
      "End file: 4\n",
      "End file: 5\n",
      "End file: 6\n",
      "End file: 7\n",
      "End file: 8\n",
      "End file: 9\n",
      "End file: 10\n",
      "End file: 11\n",
      "End file: 12\n",
      "End file: 13\n",
      "End file: 14\n",
      "End All\n"
     ]
    }
   ],
   "source": [
    "# test file readCut\n",
    "src_path = \"/home/souler/ml-wst/classification/test\"\n",
    "src_count = 15\n",
    "\n",
    "read_file_cut(src_path , src_count)"
   ]
  },
  {
   "cell_type": "code",
   "execution_count": 7,
   "metadata": {
    "collapsed": false
   },
   "outputs": [],
   "source": [
    "#Test Word Counter\n",
    "res_path = src_path + '_Result/'\n",
    "tmp_counter = 1\n",
    "res_dict = []\n",
    "\n",
    "while tmp_counter in range(src_count):\n",
    "    tmp_file = \"%04d\" % tmp_counter\n",
    "    tmp_src_path = res_path + tmp_file + \".txt\"\n",
    "    tmp_dict = calculate_word_count(tmp_src_path)\n",
    "    res_dict.append(tmp_dict)\n",
    "    tmp_counter = tmp_counter + 1"
   ]
  },
  {
   "cell_type": "code",
   "execution_count": 8,
   "metadata": {
    "collapsed": false
   },
   "outputs": [
    {
     "name": "stdout",
     "output_type": "stream",
     "text": [
      "Result_Dictionary Should be 14\n",
      "Your Result Dictionary Length: 14\n",
      "\n",
      "第一篇文章的词数向量(字典)\n",
      "{'\\xe5\\xb0\\x8f\\xe6\\x97\\xb6': 2, '\\xe8\\xbe\\x93\\xe5\\x85\\xa5': 2, '\\xe9\\x99\\x8d\\xe8\\x87\\xb3': 1, '\\xe6\\x9f\\x90\\xe7\\xa7\\x8d': 1, '\\xe7\\xba\\xa7': 1, '\\xe5\\x91\\xbd\\xe8\\xbf\\x90': 1, '\\xe8\\xbd\\xbb\\xe5\\x9e\\x8b': 4, '\\xe6\\x9b\\xb4\\xe6\\x96\\xb0': 1, '\\xe5\\x9f\\xba\\xe4\\xba\\x8e': 1, '\\xe5\\xae\\xb9\\xe7\\xba\\xb3': 1, '\\xe4\\xb9\\x8b': 1, '\\xe7\\xba\\xa6\\xe5\\x90\\x88': 4, '5500': 1, '\\xe7\\xa7\\x91\\xe6\\x8a\\x80': 1, '\\xe4\\xb8\\x89\\xe5\\xb9\\xb4': 1, '\\xe5\\x9c\\xb0': 2, '\\xe4\\xb8\\x8d': 4, '\\xe6\\x89\\x8b\\xe6\\x9c\\xba': 1, '\\xe5\\x9c\\xa8': 4, '\\xe8\\xbf\\x99\\xe4\\xba\\x9b': 1, '\\xe6\\x96\\xb0\\xe5\\xa2\\x9e': 2, '\\xe5\\xbe\\x97\\xe5\\x88\\x86': 1, '\\xe4\\xbc\\xa0\\xe7\\xbb\\x9f': 1, '\\xe8\\xbf\\x9b\\xe8\\xa1\\x8c': 1, '\\xe6\\x9c\\xac\\xe8\\xb4\\xa8': 1, '\\xe5\\xbc\\xba\\xe5\\xa4\\xa7': 1, '\\xe9\\xab\\x98\\xe7\\xab\\xaf': 2, '\\xe8\\xae\\xbe\\xe5\\xa4\\x87': 3, '\\xe5\\xa4\\xb1\\xe6\\x9c\\x9b': 1, '\\xe7\\xa9\\xba\\xe9\\x97\\xb4': 2, '\\xe5\\x87\\x86\\xe7\\xa1\\xae': 1, '999': 2, '\\xe4\\xba\\x8e': 1, '\\xe4\\xba\\x91': 1, '\\xe8\\x87\\xb3\\xe4\\xba\\x8e': 3, '\\xe9\\x99\\xa4\\xe4\\xba\\x86': 2, '\\xe9\\x83\\xbd': 6, '\\xe5\\x85\\xa8\\xe6\\x96\\xb0': 3, 'LED': 1, '\\xe9\\x94\\x81\\xe5\\xae\\x9a': 1, '\\xe9\\xa2\\x9d\\xe5\\xa4\\x96': 1, '\\xe6\\x97\\xa0\\xe6\\xb3\\x95': 2, '1700': 1, '\\xe7\\x89\\xb9\\xe6\\xae\\x8a\\xe5\\xad\\x97\\xe7\\xac\\xa6': 1, '\\xe9\\x93\\x9d\\xe5\\x90\\x88\\xe9\\x87\\x91': 2, '\\xe5\\x8f\\x8c\\xe5\\x87\\xbb': 1, '\\xe4\\xbb\\xb7\\xe6\\xa0\\xbc': 4, '\\xe6\\x9d\\xa5': 3, '\\xe5\\xaa\\x92\\xe4\\xbd\\x93': 2, '\\xe5\\xaf\\xa5\\xe5\\xaf\\xa5': 1, '\\xe7\\x9c\\x8b\\xe5\\x88\\xb0': 1, '\\xe5\\x8d\\xb3\\xe4\\xbe\\xbf': 1, 'Gizmodo': 1, '\\xe5\\x8f\\xaa\\xe6\\x98\\xaf': 3, '\\xe4\\xba\\xba': 2, '6255': 2, '\\xe6\\xaf\\x94': 1, '\\xe8\\xbf\\x99\\xe4\\xb8\\xaa': 2, '\\xe4\\xb8\\xba': 3, '\\xe5\\xae\\xbd\\xe5\\xa4\\xa7': 2, '\\xe5\\x85\\xb6': 5, '\\xe8\\x96\\x84': 1, '\\xe5\\x85\\xac\\xe6\\x96\\xa4': 1, '\\xe4\\xb8\\xad': 5, '\\xe5\\x91\\xa8\\xe8\\xbe\\xb9': 1, '32GB': 1, '\\xe6\\x9e\\x81\\xe4\\xb8\\xba': 1, '\\xe4\\xbb\\xa3\\xe4\\xbb\\xb7': 1, '\\xe8\\xaf\\x84\\xe4\\xbb\\xb7': 1, '\\xe8\\xaf\\x95\\xe7\\x94\\xa8': 1, '\\xe6\\xad\\xa4\\xe5\\x89\\x8d': 1, '\\xe8\\x99\\xbd\\xe7\\x84\\xb6': 2, '\\xe7\\x94\\xb1\\xe4\\xba\\x8e': 2, '\\xe5\\xa4\\xa7\\xe9\\x83\\xa8\\xe5\\x88\\x86': 2, '\\xe4\\xb8\\x8e': 9, 'Flipboard': 1, '\\xe6\\xa0\\xb8\\xe5\\xbf\\x83': 1, '\\xe6\\x9d\\x90\\xe8\\xb4\\xa8': 1, '\\xe8\\xae\\xb8\\xe4\\xb9\\x85': 1, '\\xe8\\x8b\\xb1\\xe7\\x89\\xb9\\xe5\\xb0\\x94': 1, '\\xe6\\xb5\\x8b\\xe8\\xaf\\x95': 2, '\\xe6\\x96\\xb9\\xe5\\xbc\\x8f': 1, '\\xe4\\xba\\xa7\\xe7\\x94\\x9f': 1, '\\xe5\\x85\\x83': 4, 'C': 5, '\\xe9\\x99\\x90\\xe5\\x88\\xb6\\xe6\\x80\\xa7': 1, '\\xe5\\xa4\\x96\\xe8\\xa7\\x82': 1, '\\xe9\\xab\\x98\\xe5\\x87\\xba': 1, '\\xe7\\xa7\\xbb\\xe5\\x8a\\xa8': 2, '\\xe6\\x95\\xb4\\xe4\\xb8\\xaa': 1, '\\xe5\\xa4\\x84\\xe7\\x90\\x86\\xe5\\x99\\xa8': 2, '\\xe6\\x9c\\xba\\xe5\\x9e\\x8b': 2, '\\xe5\\x85\\xb6\\xe4\\xb8\\xad': 2, '\\xe5\\x8e\\x9a\\xe5\\xba\\xa6': 1, 'Engadget': 3, '\\xe4\\xb8\\x80\\xe5\\x80\\x8d': 1, '\\xe8\\xae\\xa1\\xe7\\xae\\x97\\xe6\\x9c\\xba': 2, '\\xe7\\xa8\\x8d\\xe5\\xbe\\xae': 1, '\\xe7\\x9a\\x84\\xe7\\xa1\\xae': 1, '\\xe8\\xa7\\xa6\\xe6\\x91\\xb8\\xe5\\xb1\\x8f': 1, '\\xe4\\xbd\\x93\\xe9\\xaa\\x8c': 5, '\\xe6\\x98\\xbe\\xe7\\xa4\\xba': 1, '\\xe5\\x8f\\x8c\\xe6\\x8c\\x87': 1, '\\xe7\\x9b\\xb8\\xe5\\xaf\\xb9': 1, '\\xe6\\x97\\xa0\\xe8\\xae\\xba': 1, '\\xe6\\xbc\\x82\\xe4\\xba\\xae': 3, '\\xe7\\xb3\\xbb\\xe5\\x88\\x97': 1, '\\xe4\\xb8\\x8d\\xe5\\x90\\x8c': 1, '\\xe4\\xbc\\x91\\xe9\\x97\\xb2\\xe6\\xb8\\xb8\\xe6\\x88\\x8f': 1, '\\xe6\\x88\\x90\\xe7\\xbb\\xa9': 1, '\\xe7\\x81\\xaf': 1, '\\xe6\\xb2\\xa1\\xe6\\x9c\\x89': 5, '\\xe8\\xae\\xa4\\xe5\\x8f\\xaf': 1, '\\xe6\\x89\\x80\\xe4\\xbb\\xa5': 1, '\\xe8\\xbf\\x98\\xe6\\x98\\xaf': 2, '\\xe7\\xaa\\x81\\xe5\\x87\\xba': 1, '\\xe4\\xb8\\x8a\\xe7\\xbd\\x91': 3, '\\xe4\\xbb\\x85\\xe4\\xbb\\x85': 1, '\\xe8\\xb6\\x85\\xe5\\x87\\xba': 1, '\\xe5\\x8f\\xaf': 1, '\\xe9\\x94\\xae\\xe7\\x9b\\x98': 3, '\\xe5\\xb0\\x8f\\xe4\\xbc\\x97': 1, '\\xe8\\xbe\\x83': 1, '\\xe5\\xb7\\xae\\xe4\\xb8\\x8d\\xe5\\xa4\\x9a': 1, '\\xe6\\x98\\xaf\\xe5\\x90\\xa6': 1, '\\xe5\\xa4\\x96\\xe7\\xbd\\xae': 1, '\\xe6\\xa1\\x8c\\xe9\\x9d\\xa2': 3, '\\xe5\\xa6\\x82': 1, '\\xe7\\x94\\xb5\\xe9\\x87\\x8f': 1, '\\xe6\\x8e\\xa5\\xe8\\xbf\\x91': 1, '\\xe5\\xba\\x94\\xe8\\xaf\\xa5': 1, '\\xe4\\xb8\\x8a': 1, '\\xe6\\x8c\\x89\\xe9\\x94\\xae': 2, '\\xe5\\x8d\\x96\\xe7\\x82\\xb9': 1, '\\xe9\\x99\\x90\\xe5\\x88\\xb6': 1, '\\xe5\\xae\\x9e\\xe9\\x99\\x85\\xe6\\x84\\x8f\\xe4\\xb9\\x89': 1, '\\xe7\\xbe\\x8e\\xe5\\x85\\x83': 6, '\\xe7\\xbc\\x96\\xe8\\xbe\\x91': 1, '\\xe8\\xbd\\xac\\xe6\\x8e\\xa5\\xe5\\x99\\xa8': 1, '\\xe4\\xb8\\x8a\\xe6\\x96\\xb9': 1, '\\xe5\\x9b\\xbd\\xe5\\xa4\\x96': 1, '\\xe4\\xb8\\x80\\xe6\\xa0\\xb7': 1, '\\xe9\\x99\\xa4\\xe5\\xa4\\x96': 1, '\\xe4\\xb8\\xbb\\xe8\\xa6\\x81': 1, '\\xe6\\x88\\x96': 2, '\\xe9\\x9b\\x86\\xe6\\x88\\x90': 1, '16GB': 1, '\\xe6\\x8e\\xa8\\xe5\\x87\\xba': 2, '\\xe5\\xbe\\x97\\xe4\\xb8\\x8d\\xe5\\x81\\xbf\\xe5\\xa4\\xb1': 1, '\\xe5\\x80\\xbc\\xe5\\xbe\\x97': 2, '\\xe6\\x89\\xbe\\xe5\\x88\\xb0': 1, '\\xe8\\xbe\\x83\\xe4\\xb8\\xba': 2, '\\xe5\\xae\\x9e\\xe7\\x94\\xa8': 3, '\\xe8\\xb0\\xb7\\xe6\\xad\\x8c': 6, '\\xe5\\x89\\xa9\\xe4\\xbd\\x99': 1, '\\xe4\\xbe\\xbf\\xe6\\x98\\xaf': 3, '\\xe8\\xb6\\xb3\\xe5\\xa4\\x9f': 1, '\\xe7\\x89\\x88\\xe6\\x9c\\xac': 1, '\\xe5\\x88\\x86\\xe5\\x88\\xab': 1, '\\xe6\\x9c\\xba\\xe8\\xba\\xab': 4, '\\xe8\\xb4\\xad\\xe5\\x85\\xa5': 2, '\\xe5\\xbf\\xab\\xe9\\x80\\x9f': 1, '\\xe9\\x85\\xb7\\xe4\\xbc\\xbc': 1, '\\xe8\\xae\\xa9': 1, '\\xe8\\x83\\xbd\\xe5\\xa4\\x9f': 4, '\\xe8\\xbf\\x98\\xe6\\x9c\\x89': 1, '\\xe6\\x88\\x96\\xe8\\xae\\xb8': 1, '\\xe9\\x82\\xa3\\xe4\\xba\\x9b': 1, 'Chromebook': 29, '\\xe8\\xb5\\x8b\\xe4\\xba\\x88': 1, '\\xe6\\xb8\\x85\\xe6\\x99\\xb0': 1, '\\xe4\\xb8\\x8d\\xe8\\xbf\\x87': 1, '\\xe6\\xaf\\x95\\xe7\\xab\\x9f': 3, 'Chrome': 10, '\\xe7\\x9a\\x84': 75, '\\xe5\\x8a\\x9f\\xe8\\x83\\xbd': 1, '\\xe6\\x95\\xb0\\xe7\\xa0\\x81': 1, '\\xe6\\x9f\\xa5\\xe7\\x9c\\x8b': 1, '\\xe6\\x80\\xbb\\xe5\\xbe\\x97\\xe6\\x9d\\xa5\\xe8\\xaf\\xb4': 1, '\\xe6\\x94\\xb9\\xe5\\x8f\\x98': 2, '\\xe6\\x9b\\xb4\\xe5\\xbf\\xab': 1, '\\xe8\\xbf\\x9c\\xe7\\xa8\\x8b': 1, '\\xe5\\x8f\\x98\\xe5\\xbe\\x97': 1, '\\xe6\\x95\\x88\\xe6\\x9e\\x9c': 1, '\\xe5\\x8e\\x9f\\xe5\\x9b\\xa0': 1, '\\xe4\\xba\\x86': 14, '\\xe9\\x9d\\x9e\\xe5\\xb8\\xb8\\xe6\\x98\\x8e\\xe6\\x98\\xbe': 1, '\\xe9\\x83\\xa8\\xe5\\x88\\x86': 3, '\\xe4\\xba\\xba\\xe4\\xbb\\xac': 1, '\\xe6\\x88\\x91\\xe4\\xbb\\xac': 1, '\\xe4\\xb8\\x8d\\xe6\\x98\\xaf': 1, '\\xe8\\x8e\\xb7\\xe5\\xbe\\x97': 6, '\\xe4\\xb8\\xbb\\xe6\\xb5\\x81': 8, '\\xe6\\x80\\xbb\\xe7\\xbb\\x93': 1, '\\xe5\\x88\\xb0': 1, '\\xe5\\xa4\\xa7\\xe4\\xbd\\x9c': 1, '\\xe7\\x94\\xa8': 1, '\\xe5\\x96\\x9c\\xe6\\xac\\xa2': 1, 'i5': 1, '\\xe6\\x96\\xb9\\xe5\\x90\\x91': 2, 'i7': 1, '\\xe8\\x83\\xbd': 1, '\\xe4\\xbd\\xa0': 3, '\\xe6\\x98\\xaf': 17, '\\xe8\\xb5\\xb7': 1, '\\xe9\\x9c\\x80\\xe7\\xba\\xa6': 1, '\\xe8\\xbf\\x91\\xe6\\x97\\xa5': 1, '\\xe6\\xbb\\xa1\\xe8\\xb6\\xb3': 1, '\\xe5\\x91\\xa2': 3, '\\xe6\\xaf\\x94\\xe5\\xa6\\x82': 1, '\\xe8\\xa7\\x82\\xe7\\x82\\xb9': 2, '\\xe8\\xbf\\x9e\\xe6\\x8e\\xa5\\xe6\\x80\\xa7': 1, '\\xe7\\xa1\\xac\\xe4\\xbb\\xb6': 2, '\\xe5\\x93\\xaa\\xe4\\xb8\\xaa': 1, '\\xe6\\x80\\xa7\\xe8\\x83\\xbd': 5, '\\xe7\\x9b\\xb8\\xe6\\xaf\\x94': 1, '\\xe7\\xbc\\xa9\\xe6\\x94\\xbe': 1, '\\xe7\\xbb\\x86\\xe8\\x85\\xbb': 2, '\\xe6\\x8e\\x92\\xe5\\x88\\x97': 1, '\\xe5\\xaf\\xb9': 3, 'ARM': 1, '\\xe5\\x87\\xa0\\xe4\\xb9\\x8e': 4, '\\xe5\\x94\\xae\\xe4\\xbb\\xb7': 2, '\\xe9\\xab\\x98\\xe6\\x98\\x82': 1, '\\xe8\\x8c\\x83\\xe5\\x9b\\xb4': 1, '\\xe6\\x9c\\x80': 3, '\\xe4\\xb8\\x8d\\xe5\\xa4\\x9f': 1, '\\xe8\\x90\\xa5\\xe9\\x94\\x80': 1, '\\xe9\\x80\\x9a\\xe8\\xbf\\x87': 4, '\\xe5\\x9c\\xa8\\xe6\\x84\\x8f': 1, '\\xe4\\xb8\\x8d\\xe5\\xbf\\x85': 1, '\\xe5\\x8a\\x9e\\xe6\\xb3\\x95': 1, '\\xe7\\xae\\xa1\\xe7\\x90\\x86\\xe5\\x99\\xa8': 1, '\\xe9\\x85\\x8d\\xe7\\xbd\\xae': 2, 'Pixel': 22, '\\xe6\\x84\\x8f\\xe5\\x91\\xb3\\xe7\\x9d\\x80': 2, '\\xe4\\xbc\\xbc\\xe4\\xb9\\x8e': 3, '\\xe6\\xb0\\x94\\xe8\\xb4\\xa8': 1, '\\xe6\\x9c\\xac': 3, '\\xe8\\x80\\x8c': 1, 'RAM': 1, 'Theverge': 1, 'Mac': 2, '\\xe4\\xbb\\x98\\xe5\\x87\\xba': 1, '\\xe8\\xaf\\x84\\xe8\\xae\\xba': 1, '\\xe9\\xa1\\xb6\\xe7\\x9b\\x96': 1, '\\xe8\\xa1\\xa8\\xe8\\xbe\\xbe': 1, '\\xe6\\x96\\xb9\\xe4\\xbe\\xbf': 2, '\\xe4\\xb8\\x80\\xe6\\xac\\xbe': 5, '2015': 1, '\\xe7\\x94\\xb5\\xe8\\x84\\x91': 1, '2K': 1, '\\xe7\\x9c\\x9f\\xe6\\xad\\xa3': 4, '\\xe7\\x9b\\xae\\xe5\\x89\\x8d': 2, '\\xe7\\xa7\\xbb\\xe6\\xa4\\x8d': 1, '\\xe8\\xbf\\x99\\xe7\\xa7\\x8d': 1, '\\xe8\\x81\\x94\\xe6\\x83\\xb3': 1, '\\xe8\\xa7\\x92\\xe5\\xba\\xa6': 2, '\\xe8\\xae\\xbe\\xe8\\xae\\xa1': 7, '\\xe5\\x85\\x8d\\xe8\\xb4\\xb9': 1, '\\xe4\\xb8\\x80\\xe8\\x87\\xb4': 1, '\\xe6\\x9b\\xb4\\xe5\\xa5\\xbd': 1, '\\xe6\\x89\\x8b\\xe6\\x84\\x9f': 1, '\\xe8\\xaf\\xad\\xe8\\xa8\\x80': 1, '\\xe5\\x90\\xa6\\xe5\\x88\\x99': 1, '\\xe5\\xbe\\x88\\xe5\\xa4\\x9a': 2, '\\xe5\\xb8\\x82\\xe5\\x9c\\xba': 3, '\\xe5\\xbb\\xb6\\xe7\\xbb\\xad': 1, '\\xe5\\xa5\\xbd\\xe4\\xba\\x8e': 1, '\\xe4\\xba\\xa7\\xe5\\x93\\x81': 4, '\\xe5\\xbd\\xa2\\xe5\\xae\\xb9': 1, '\\xe6\\x98\\xbe\\xe7\\x84\\xb6': 5, '\\xe7\\x8e\\xb0\\xe5\\x9c\\xa8': 2, '\\xe5\\xba\\x94\\xe7\\x94\\xa8\\xe7\\xa8\\x8b\\xe5\\xba\\x8f': 2, '\\xe5\\xae\\xa2\\xe6\\xb0\\x94': 1, '\\xe4\\xbd\\x86\\xe6\\x98\\xaf': 2, '\\xe4\\xbb\\xa4\\xe4\\xba\\xba': 1, '\\xe7\\xa6\\xbb\\xe7\\xba\\xbf': 1, '\\xe5\\x85\\xb6\\xe5\\xae\\x9e': 1, '\\xe7\\xbb\\x84\\xe7\\xbb\\x87': 1, '\\xe6\\x8f\\x90\\xe5\\x8d\\x87': 3, '\\xe6\\x95\\x99\\xe8\\x82\\xb2\\xe9\\xa2\\x86\\xe5\\x9f\\x9f': 1, '\\xe4\\xba\\x8b\\xe5\\xae\\x9e\\xe4\\xb8\\x8a': 1, 'OS': 11, '\\xe6\\xb5\\x8f\\xe8\\xa7\\x88\\xe5\\x99\\xa8': 4, '\\xe5\\xb8\\x82\\xe5\\x9c\\xba\\xe4\\xbb\\xbd\\xe9\\xa2\\x9d': 1, '\\xe6\\x8e\\xa5\\xe5\\x8f\\xa3': 8, 'Evernote': 1, '\\xe7\\xb2\\xbe\\xe8\\x87\\xb4': 2, '200': 1, '\\xe7\\xac\\xac\\xe4\\xba\\x94\\xe4\\xbb\\xa3': 1, '\\xe4\\xb8\\xa4\\xe4\\xb8\\xaa': 2, '\\xe8\\xae\\xa4\\xe4\\xb8\\xba': 1, '\\xe8\\xae\\xb8\\xe5\\xa4\\x9a': 1, '\\xe5\\xae\\x9a\\xe4\\xbd\\x8d': 1, '\\xe7\\x8b\\xac\\xe4\\xb8\\x80\\xe6\\x97\\xa0\\xe4\\xba\\x8c': 1, '3.0': 1, '\\xe7\\xb1\\xbb\\xe5\\x9e\\x8b': 1, '\\xe9\\x93\\xb6\\xe8\\x89\\xb2': 1, '\\xe8\\xb0\\x81': 1, '\\xe9\\x9d\\x9e\\xe5\\xb8\\xb8': 1, 'Type': 5, '\\xe5\\x88\\x86\\xe8\\xbe\\xa8\\xe7\\x8e\\x87': 1, '8133': 2, '\\xe5\\xae\\x83\\xe4\\xbb\\xac': 4, '\\xe5\\xaf\\xbf\\xe5\\x91\\xbd': 5, '\\xe5\\xae\\x9e\\xe7\\x94\\xa8\\xe6\\x80\\xa7': 1, '\\xe5\\xb1\\x8f\\xe5\\xb9\\x95': 4, '\\xe5\\x89\\x8d\\xe4\\xbd\\x9c': 5, '\\xe6\\xb8\\xa9\\xe5\\x92\\x8c': 1, '\\xe6\\x98\\xbe\\xe5\\x8d\\xa1': 1, '\\xe7\\x9b\\xb8\\xe4\\xbc\\xbc': 2, '\\xe9\\xa9\\xb1\\xe5\\x8a\\xa8\\xe7\\xa8\\x8b\\xe5\\xba\\x8f': 1, '\\xe4\\xb8\\x8d\\xe5\\xb0\\x91': 1, '\\xe4\\xbb\\xa5\\xe5\\x8f\\x8a': 2, '\\xe5\\xa4\\x9a': 2, '8GB': 2, '\\xe8\\x87\\xb3': 2, '\\xe6\\x9c\\xaa\\xe6\\x9d\\xa5': 1, '\\xe8\\xae\\xbf\\xe9\\x97\\xae': 1, '\\xe6\\x96\\x87\\xe5\\xad\\x97': 1, '\\xe5\\x9c\\xb0\\xe4\\xb8\\xba': 1, '\\xe8\\x87\\xaa': 1, '\\xe5\\x9c\\xa8\\xe4\\xba\\x8e': 2, '\\xe8\\xb5\\x9b\\xe6\\x89\\xac': 1, '\\xe5\\x8f\\xaa\\xe8\\x83\\xbd': 2, '\\xe5\\x85\\xb7\\xe5\\xa4\\x87': 1, '\\xe5\\xbf\\x85\\xe5\\xae\\x9a': 1, '\\xe5\\x8f\\x91\\xe8\\xa1\\xa8': 1, '\\xe5\\x8f\\xaf\\xe8\\x83\\xbd': 5, '\\xe4\\xb9\\x9f': 9, '\\xe5\\x8d\\x81\\xe5\\x88\\x86': 1, '\\xe5\\xb7\\xb2\\xe7\\xbb\\x8f': 1, '\\xe9\\xab\\x98': 1, '\\xe5\\x8a\\x9f\\xe8\\x83\\xbd\\xe9\\x94\\xae': 1, '\\xe6\\x9c\\x89\\xe4\\xbd\\x95': 1, '\\xe7\\xa7\\xb0\\xe4\\xb8\\xba': 1, '\\xe5\\x8a\\xa0\\xe5\\x85\\xa5': 1, '\\xe8\\xbf\\x90\\xe8\\xa1\\x8c': 3, '2560': 1, '\\xe3\\x80\\x81': 10, '\\xe3\\x80\\x82': 34, '\\xe4\\xbb\\x8e\\xe6\\x9d\\xa5': 1, '1299': 2, '\\xe8\\x8b\\xb9\\xe6\\x9e\\x9c': 2, '1000': 1, '\\xe9\\xab\\x98\\xe4\\xba\\x8e': 1, '\\xe5\\xae\\x83': 6, '\\xe6\\x96\\xb0\\xe6\\xac\\xbe': 14, '\\xe8\\xbf\\x9b\\xe5\\xb1\\x95': 1, '\\xe4\\xb8\\xba\\xe4\\xba\\x86': 1, '\\xe9\\x87\\x8d\\xe9\\x87\\x8f': 1, '\\xe5\\x8f\\xaf\\xe4\\xbb\\xa5': 8, '\\xef\\xbc\\x88': 5, '\\xe6\\x98\\x82\\xe8\\xb4\\xb5': 4, '\\xe6\\x80\\x81': 2, '\\xe6\\x98\\x8e\\xe6\\x98\\xbe': 2, '\\xe6\\xaf\\x8f\\xe4\\xb8\\xaa': 1, '\\xe6\\xb3\\xa8\\xe5\\xae\\x9a': 1, '\\xe6\\xa0\\x87\\xe5\\x87\\x86': 1, 'MacBook': 3, '\\xe8\\x83\\xbd\\xe5\\x8a\\x9b': 1, '\\xe7\\x9b\\xb8\\xe6\\x82\\x96': 1, '\\xe7\\x94\\xb5\\xe6\\xb1\\xa0': 6, '\\xe9\\x82\\xa3\\xe4\\xb9\\x88': 3, '*': 1, '\\xe5\\x8c\\x85\\xe6\\x8b\\xac': 1, '\\xe5\\xbb\\x89\\xe4\\xbb\\xb7': 2, '-': 5, '\\xe7\\x9f\\x9b\\xe7\\x9b\\xbe': 1, '\\xe5\\xbe\\x88': 3, '\\xe7\\x9b\\xb8\\xe5\\xbd\\x93': 2, '\\xe9\\x80\\x89': 1, '\\xe6\\x96\\xb0\\xe8\\xb0\\xb7\\xe6\\xad\\x8c': 3, '\\xe6\\x9c\\x80\\xe4\\xb8\\xba': 1, '\\xe6\\x84\\x8f\\xe4\\xb9\\x89': 1, '\\xe9\\x95\\xbf\\xe6\\x9d\\xa1\\xe5\\xbd\\xa2': 1, '\\xe4\\xb8\\x80\\xe4\\xba\\x9b': 4, '\\xe4\\xb8\\x8d\\xe5\\x88\\xb0': 1, '\\xe6\\x90\\xad\\xe8\\xbd\\xbd': 1, '\\xe6\\x96\\x87\\xe4\\xbb\\xb6': 1, '\\xe6\\xaf\\xab\\xe6\\x97\\xa0\\xe7\\x96\\x91\\xe9\\x97\\xae': 1, '\\xe8\\xbf\\x98': 2, '\\xe7\\x8b\\xac\\xe7\\x89\\xb9': 1, '\\xe7\\xbb\\xad\\xe8\\x88\\xaa': 1, '\\xe5\\xad\\x98\\xe5\\x82\\xa8': 2, '\\xe8\\x8b\\xb1\\xe5\\xaf\\xb8': 2, '\\xe8\\xa6\\x81': 3, '\\xe9\\x87\\x87\\xe7\\x94\\xa8': 1, '\\xe6\\x94\\xaf\\xe6\\x8c\\x81': 2, '\\xe5\\xa6\\x82\\xe6\\xad\\xa4': 1, '\\xe5\\xa5\\xbd': 1, '10': 1, '13': 2, '\\xe6\\x99\\xba\\xe8\\x83\\xbd': 2, '\\xe8\\xb4\\xb4\\xe5\\x88\\x87': 1, '\\xe5\\x85\\x85\\xe7\\x94\\xb5': 1, '\\xe7\\xbb\\xbc\\xe5\\x90\\x88': 1, '\\xe7\\xad\\x94\\xe6\\xa1\\x88': 1, '\\xe4\\xb8\\x8d\\xe8\\x83\\xbd': 1, '\\xe5\\xb9\\xb3\\xe5\\x8f\\xb0': 1, '\\xe7\\x9b\\xae\\xe7\\x9a\\x84': 2, '\\xe5\\x89\\x8d\\xe8\\x80\\x85': 1, '\\xe7\\xac\\x94\\xe8\\xae\\xb0\\xe6\\x9c\\xac': 3, '1TB': 1, '\\xe5\\x90\\x8c\\xe7\\xb1\\xbb': 1, '\\xe6\\x83\\xb3\\xe8\\xa6\\x81': 1, '\\xe9\\xab\\x98\\xe8\\xb4\\xb5': 1, '1.5': 1, '\\xe4\\xbb\\x85': 2, 'USB': 6, '\\xe4\\xbb\\x8e': 2, '\\xe4\\xbb\\x8d': 3, '\\xe6\\x9b\\xb4': 5, '\\xe4\\xba\\xba\\xe6\\x80\\xa7\\xe5\\x8c\\x96': 1, '\\xe7\\xad\\x89': 2, '\\xe4\\xba\\xba\\xe6\\xb0\\x91\\xe5\\xb8\\x81': 4, '\\xe6\\xaf\\x94\\xe8\\xbe\\x83': 1, '\\xe5\\x83\\x8f\\xe7\\xb4\\xa0': 1, '\\xe8\\xbd\\xaf\\xe4\\xbb\\xb6': 1, '\\xe6\\x9d\\xa5\\xe8\\xaf\\xb4': 3, 'Android': 3, '\\xe5\\xba\\x94\\xe7\\x94\\xa8': 4, '\\xe4\\xbb\\xa5': 1, '\\xe5\\x9b\\xa0\\xe4\\xb8\\xba': 3, '\\xe7\\x94\\xa8\\xe6\\x88\\xb7': 6, '\\xe6\\x8b\\xa5\\xe6\\x9c\\x89': 3, '\\xe9\\x99\\xa4\\xe9\\x9d\\x9e': 1, '\\xe4\\xbc\\x9a': 3, '\\xe4\\xbb\\xac': 1, '\\xe5\\xae\\x9e\\xe7\\x8e\\xb0': 2, '\\xe5\\x88\\x99': 3, '\\xe4\\xb8\\x8d\\xe7\\xac\\xa6': 1, '\\xe4\\xb8\\x8d\\xe9\\x94\\x99': 1, '\\xe8\\xbf\\x9e\\xe6\\x8e\\xa5': 4, '\\xe7\\xac\\x94\\xe8\\xae\\xb0\\xe6\\x9c\\xac\\xe7\\x94\\xb5\\xe8\\x84\\x91': 1, '5': 1, 'HD': 1, '\\xe4\\xb9\\x8b\\xe4\\xb8\\x80': 1, '\\xe5\\x92\\x8c': 6, '\\xe8\\xbf\\x99\\xe6\\x98\\xaf': 2, '\\xe5\\x85\\xb6\\xe4\\xbb\\x96': 1, '\\xe6\\x9c\\x80\\xe7\\xbb\\x88': 1, '\\xe7\\x8b\\xac\\xe7\\xab\\x8b': 1, '\\xe4\\xbd\\x86': 9, 'Windows': 3, '\\xef\\xbc\\x9a': 6, '\\xef\\xbc\\x9b': 3, 'Drive': 1, '\\xef\\xbc\\x9f': 3, '\\xe4\\xbe\\x9d\\xe7\\x84\\xb6': 8, '\\xe8\\x8a\\xb1\\xe8\\xb4\\xb9': 2, '\\xe5\\x8d\\x81\\xe5\\x88\\x86\\xe6\\x83\\xb3\\xe5\\xbf\\xb5': 1, '\\xe5\\xb0\\x86': 1, '\\xef\\xbc\\x89': 5, '\\xe8\\x87\\xaa\\xe5\\xae\\xb6': 1, '\\xef\\xbc\\x8c': 98, 'Photoshop': 1, 'Google': 1, '\\xe5\\xbd\\x93\\xe7\\x84\\xb6': 1, '\\xe7\\xbb\\x93\\xe5\\x90\\x88\\xe4\\xbd\\x93': 1, '\\xe5\\x8f\\x91\\xe5\\xb1\\x95': 1, '\\xe2\\x80\\x9d': 5, '\\xe2\\x80\\x9c': 5, '\\xe9\\x85\\xb7\\xe7\\x9d\\xbf': 1, '\\xe4\\xbd\\xbf\\xe7\\x94\\xa8': 6, '\\xe6\\x9c\\xac\\xe8\\xba\\xab': 3, '\\xe4\\xb8\\x80\\xe4\\xb8\\xaa': 3, '\\xe5\\x8c\\xba\\xe5\\x88\\xab': 1, '\\xe8\\xb4\\xad\\xe4\\xb9\\xb0': 6}\n"
     ]
    }
   ],
   "source": [
    "print \"Result_Dictionary Should be 14\"\n",
    "print \"Your Result Dictionary Length: %d\" % len(res_dict) \n",
    "print \"\"\n",
    "print \"第一篇文章的词数向量(字典)\"\n",
    "print res_dict[0]\n",
    "\n",
    "#如果不想看直接就过\n",
    "#如果想看中文的话，使用decode就行\n",
    "# x.decode('utf-8')"
   ]
  },
  {
   "cell_type": "code",
   "execution_count": 9,
   "metadata": {
    "collapsed": false
   },
   "outputs": [
    {
     "name": "stdout",
     "output_type": "stream",
     "text": [
      "测试欧几里得距离：\n",
      "This non-commercial license of GraphLab Create is assigned to ouyf5@mail2.sysu.edu.cn and will expire on November 25, 2016. For commercial licensing options, visit https://turi.com/buy/.\n"
     ]
    },
    {
     "name": "stderr",
     "output_type": "stream",
     "text": [
      "2016-07-15 17:54:00,682 [INFO] graphlab.cython.cy_server, 176: GraphLab Create v1.8.5 started. Logging: /tmp/graphlab_server_1468576419.log\n"
     ]
    },
    {
     "name": "stdout",
     "output_type": "stream",
     "text": [
      "第一篇文章和第二篇文章的欧几里得距离是: 132.491509\n",
      "第十二篇文章和第二篇文章的欧几里得距离是: 55.695601\n",
      "----------------------------------------------------------------------\n",
      "测试余弦距离：\n",
      "第一篇文章和第二篇文章的余弦距离是: 0.333527\n",
      "第十二篇文章和第二篇文章的余弦距离是: 0.407858\n",
      "----------------------------------------------------------------------\n",
      "测试带权杰卡德距离：\n",
      "第一篇文章和第二篇文章的带权杰卡德距离是: 0.929072\n",
      "第十二篇文章和第二篇文章的带权杰卡德距离是: 0.908810\n",
      "----------------------------------------------------------------------\n"
     ]
    }
   ],
   "source": [
    "#test euclidean calculator\n",
    "print \"测试欧几里得距离：\"\n",
    "print \"第一篇文章和第二篇文章的欧几里得距离是: %f\" % euc_dist(res_dict[0] , res_dict[1])\n",
    "print \"第十二篇文章和第二篇文章的欧几里得距离是: %f\" % euc_dist(res_dict[11] , res_dict[1])\n",
    "print \"----------------------------------------------------------------------\"\n",
    "#test cosine calculator\n",
    "print \"测试余弦距离：\"\n",
    "print \"第一篇文章和第二篇文章的余弦距离是: %f\" % cos_dist(res_dict[0] , res_dict[1])\n",
    "print \"第十二篇文章和第二篇文章的余弦距离是: %f\" % cos_dist(res_dict[1] , res_dict[11])\n",
    "print \"----------------------------------------------------------------------\"\n",
    "#test jaccard calculator\n",
    "print \"测试带权杰卡德距离：\"\n",
    "print \"第一篇文章和第二篇文章的带权杰卡德距离是: %f\" % jac_dist(res_dict[0] , res_dict[1])\n",
    "print \"第十二篇文章和第二篇文章的带权杰卡德距离是: %f\" % jac_dist(res_dict[1] , res_dict[11])\n",
    "print \"----------------------------------------------------------------------\""
   ]
  },
  {
   "cell_type": "code",
   "execution_count": 10,
   "metadata": {
    "collapsed": false
   },
   "outputs": [
    {
     "name": "stdout",
     "output_type": "stream",
     "text": [
      "测试TF-IDF下的欧几里得距离：\n",
      "第一篇文章和第二篇文章的欧几里得距离是: 93.607117\n",
      "第十二篇文章和第二篇文章的欧几里得距离是: 75.697636\n",
      "----------------------------------------------------------------------\n",
      "测试TF-IDF下的余弦距离：\n",
      "第一篇文章和第二篇文章的余弦距离是: 0.930494\n",
      "第十二篇文章和第二篇文章的余弦距离是: 0.969091\n",
      "----------------------------------------------------------------------\n",
      "测试TF-IDF下的带权杰卡德距离：\n",
      "第一篇文章和第二篇文章的带权杰卡德距离是: 0.972891\n",
      "第十二篇文章和第二篇文章的带权杰卡德距离是: 0.977019\n",
      "----------------------------------------------------------------------\n"
     ]
    }
   ],
   "source": [
    "# testing tf-idf parsing\n",
    "res_sarray = graphlab.SArray(res_dict)\n",
    "res_tf_idf = calc_tf_idf(res_sarray)\n",
    "\n",
    "\n",
    "#Retest the distances\n",
    "print \"测试TF-IDF下的欧几里得距离：\"\n",
    "print \"第一篇文章和第二篇文章的欧几里得距离是: %f\" % euc_dist(res_tf_idf[0] , res_tf_idf[1])\n",
    "print \"第十二篇文章和第二篇文章的欧几里得距离是: %f\" % euc_dist(res_tf_idf[1] , res_tf_idf[11])\n",
    "print \"----------------------------------------------------------------------\"\n",
    "\n",
    "print \"测试TF-IDF下的余弦距离：\"\n",
    "print \"第一篇文章和第二篇文章的余弦距离是: %f\" % cos_dist(res_tf_idf[0] , res_tf_idf[1])\n",
    "print \"第十二篇文章和第二篇文章的余弦距离是: %f\" % cos_dist(res_tf_idf[1] , res_tf_idf[11])\n",
    "print \"----------------------------------------------------------------------\"\n",
    "\n",
    "print \"测试TF-IDF下的带权杰卡德距离：\"\n",
    "print \"第一篇文章和第二篇文章的带权杰卡德距离是: %f\" % jac_dist(res_tf_idf[0] , res_tf_idf[1])\n",
    "print \"第十二篇文章和第二篇文章的带权杰卡德距离是: %f\" % jac_dist(res_tf_idf[1] , res_tf_idf[11])\n",
    "print \"----------------------------------------------------------------------\""
   ]
  },
  {
   "cell_type": "code",
   "execution_count": 11,
   "metadata": {
    "collapsed": false
   },
   "outputs": [],
   "source": [
    "#testing Nearest Neighbour\n",
    "res_nn = find_NN(res_tf_idf[0] , res_tf_idf)\n",
    "#res_nn_1 = find_NN(res_dict[0] , res_dict)"
   ]
  },
  {
   "cell_type": "code",
   "execution_count": 12,
   "metadata": {
    "collapsed": false
   },
   "outputs": [
    {
     "data": {
      "text/html": [
       "<div style=\"max-height:1000px;max-width:1500px;overflow:auto;\"><table frame=\"box\" rules=\"cols\">\n",
       "    <tr>\n",
       "        <th style=\"padding-left: 1em; padding-right: 1em; text-align: center\">original</th>\n",
       "        <th style=\"padding-left: 1em; padding-right: 1em; text-align: center\">cosine</th>\n",
       "        <th style=\"padding-left: 1em; padding-right: 1em; text-align: center\">id</th>\n",
       "    </tr>\n",
       "    <tr>\n",
       "        <td style=\"padding-left: 1em; padding-right: 1em; text-align: center; vertical-align: top\">{'\\xe5\\xb0\\x8f\\xe6\\x97\\xb<br>6': 3.080890081894298 ...</td>\n",
       "        <td style=\"padding-left: 1em; padding-right: 1em; text-align: center; vertical-align: top\">0.0</td>\n",
       "        <td style=\"padding-left: 1em; padding-right: 1em; text-align: center; vertical-align: top\">0</td>\n",
       "    </tr>\n",
       "    <tr>\n",
       "        <td style=\"padding-left: 1em; padding-right: 1em; text-align: center; vertical-align: top\">{'\\xe5\\x94\\xae\\xe4\\xbb\\xb<br>7': 1.029619417181158 ...</td>\n",
       "        <td style=\"padding-left: 1em; padding-right: 1em; text-align: center; vertical-align: top\">93.3766286501</td>\n",
       "        <td style=\"padding-left: 1em; padding-right: 1em; text-align: center; vertical-align: top\">6</td>\n",
       "    </tr>\n",
       "    <tr>\n",
       "        <td style=\"padding-left: 1em; padding-right: 1em; text-align: center; vertical-align: top\">{'\\xe6\\x9c\\x89':<br>0.6931471805599453, ...</td>\n",
       "        <td style=\"padding-left: 1em; padding-right: 1em; text-align: center; vertical-align: top\">93.4476774541</td>\n",
       "        <td style=\"padding-left: 1em; padding-right: 1em; text-align: center; vertical-align: top\">5</td>\n",
       "    </tr>\n",
       "    <tr>\n",
       "        <td style=\"padding-left: 1em; padding-right: 1em; text-align: center; vertical-align: top\">{'\\xe6\\x9c\\x89':<br>0.6931471805599453, ' ...</td>\n",
       "        <td style=\"padding-left: 1em; padding-right: 1em; text-align: center; vertical-align: top\">93.6071171083</td>\n",
       "        <td style=\"padding-left: 1em; padding-right: 1em; text-align: center; vertical-align: top\">1</td>\n",
       "    </tr>\n",
       "    <tr>\n",
       "        <td style=\"padding-left: 1em; padding-right: 1em; text-align: center; vertical-align: top\">{'\\xe4\\xb8\\x89\\xe6\\x98\\x9<br>f': 1.540445040947149 ...</td>\n",
       "        <td style=\"padding-left: 1em; padding-right: 1em; text-align: center; vertical-align: top\">94.3435572299</td>\n",
       "        <td style=\"padding-left: 1em; padding-right: 1em; text-align: center; vertical-align: top\">7</td>\n",
       "    </tr>\n",
       "    <tr>\n",
       "        <td style=\"padding-left: 1em; padding-right: 1em; text-align: center; vertical-align: top\">{'\\xe6\\x9c\\x89':<br>0.6931471805599453, ' ...</td>\n",
       "        <td style=\"padding-left: 1em; padding-right: 1em; text-align: center; vertical-align: top\">94.3776712023</td>\n",
       "        <td style=\"padding-left: 1em; padding-right: 1em; text-align: center; vertical-align: top\">8</td>\n",
       "    </tr>\n",
       "    <tr>\n",
       "        <td style=\"padding-left: 1em; padding-right: 1em; text-align: center; vertical-align: top\">{'\\xe6\\x9c\\x89':<br>2.0794415416798357, ...</td>\n",
       "        <td style=\"padding-left: 1em; padding-right: 1em; text-align: center; vertical-align: top\">94.6005774246</td>\n",
       "        <td style=\"padding-left: 1em; padding-right: 1em; text-align: center; vertical-align: top\">2</td>\n",
       "    </tr>\n",
       "    <tr>\n",
       "        <td style=\"padding-left: 1em; padding-right: 1em; text-align: center; vertical-align: top\">{'\\xe4\\xb8\\x89\\xe6\\x98\\x9<br>f': 1.540445040947149 ...</td>\n",
       "        <td style=\"padding-left: 1em; padding-right: 1em; text-align: center; vertical-align: top\">94.7059817988</td>\n",
       "        <td style=\"padding-left: 1em; padding-right: 1em; text-align: center; vertical-align: top\">9</td>\n",
       "    </tr>\n",
       "    <tr>\n",
       "        <td style=\"padding-left: 1em; padding-right: 1em; text-align: center; vertical-align: top\">{'\\xe6\\x9c\\x88':<br>2.0794415416798357, ' ...</td>\n",
       "        <td style=\"padding-left: 1em; padding-right: 1em; text-align: center; vertical-align: top\">94.7657640934</td>\n",
       "        <td style=\"padding-left: 1em; padding-right: 1em; text-align: center; vertical-align: top\">3</td>\n",
       "    </tr>\n",
       "    <tr>\n",
       "        <td style=\"padding-left: 1em; padding-right: 1em; text-align: center; vertical-align: top\">{'\\xe6\\x9c\\x88':<br>1.3862943611198906, ' ...</td>\n",
       "        <td style=\"padding-left: 1em; padding-right: 1em; text-align: center; vertical-align: top\">95.299432307</td>\n",
       "        <td style=\"padding-left: 1em; padding-right: 1em; text-align: center; vertical-align: top\">4</td>\n",
       "    </tr>\n",
       "</table>\n",
       "[10 rows x 3 columns]<br/>\n",
       "</div>"
      ],
      "text/plain": [
       "Columns:\n",
       "\toriginal\tdict\n",
       "\tcosine\tfloat\n",
       "\tid\tint\n",
       "\n",
       "Rows: 10\n",
       "\n",
       "Data:\n",
       "+-------------------------------+---------------+----+\n",
       "|            original           |     cosine    | id |\n",
       "+-------------------------------+---------------+----+\n",
       "| {'\\xe5\\xb0\\x8f\\xe6\\x97\\xb6... |      0.0      | 0  |\n",
       "| {'\\xe5\\x94\\xae\\xe4\\xbb\\xb7... | 93.3766286501 | 6  |\n",
       "| {'\\xe6\\x9c\\x89': 0.6931471... | 93.4476774541 | 5  |\n",
       "| {'\\xe6\\x9c\\x89': 0.6931471... | 93.6071171083 | 1  |\n",
       "| {'\\xe4\\xb8\\x89\\xe6\\x98\\x9f... | 94.3435572299 | 7  |\n",
       "| {'\\xe6\\x9c\\x89': 0.6931471... | 94.3776712023 | 8  |\n",
       "| {'\\xe6\\x9c\\x89': 2.0794415... | 94.6005774246 | 2  |\n",
       "| {'\\xe4\\xb8\\x89\\xe6\\x98\\x9f... | 94.7059817988 | 9  |\n",
       "| {'\\xe6\\x9c\\x88': 2.0794415... | 94.7657640934 | 3  |\n",
       "| {'\\xe6\\x9c\\x88': 1.3862943... |  95.299432307 | 4  |\n",
       "+-------------------------------+---------------+----+\n",
       "[10 rows x 3 columns]"
      ]
     },
     "execution_count": 12,
     "metadata": {},
     "output_type": "execute_result"
    }
   ],
   "source": [
    "res_nn"
   ]
  },
  {
   "cell_type": "markdown",
   "metadata": {},
   "source": [
    "### 函数测试完成，下面是初步match方法"
   ]
  },
  {
   "cell_type": "code",
   "execution_count": 13,
   "metadata": {
    "collapsed": true
   },
   "outputs": [],
   "source": [
    "#process global documents and put them into an array by id\n",
    "#Can also calculate TF-IDF formats\n",
    "def generate_docset_vec(path , count , TF_SELECTOR = False):\n",
    "    res_path = path + '_Result/'\n",
    "    tmp_counter = 1\n",
    "    res_dict = []\n",
    "\n",
    "    while tmp_counter in range(count + 1):\n",
    "        tmp_file = \"%04d\" % tmp_counter\n",
    "        tmp_src_path = res_path + tmp_file + \".txt\"\n",
    "        tmp_dict = calculate_word_count(tmp_src_path)\n",
    "        res_dict.append(tmp_dict)\n",
    "        tmp_counter = tmp_counter + 1\n",
    "    res_sarray = graphlab.SArray(res_dict)\n",
    "\n",
    "    if TF_SELECTOR:\n",
    "        res_tf = calc_tf_idf(res_sarray)\n",
    "        return res_tf\n",
    "    else:\n",
    "        return res_sarray"
   ]
  },
  {
   "cell_type": "code",
   "execution_count": 14,
   "metadata": {
    "collapsed": true
   },
   "outputs": [],
   "source": [
    "#This function is just uses for reduce code length\n",
    "#Ignore it\n",
    "def judge_and_cut(path , count , name):\n",
    "    if os.path.isdir(path):\n",
    "        read_file_cut(path , count)\n",
    "        return False\n",
    "    else:\n",
    "        print \"Error: \" + name + \" path Error!\"\n",
    "        return True"
   ]
  },
  {
   "cell_type": "code",
   "execution_count": 15,
   "metadata": {
    "collapsed": true
   },
   "outputs": [],
   "source": [
    "#Main process\n",
    "#Result contains a SFrame that contains news raw word_vec and matching weibo\n",
    "def pre_process(weibo_abs_path , weibo_count , news_abs_path , news_count):\n",
    "    # Handle Weibo , cutting into words\n",
    "    if judge_and_cut(weibo_abs_path , weibo_count , \"Weibo\") or judge_and_cut(news_abs_path , news_count , \"News\"):\n",
    "        return False\n",
    "    #NOW perform checking if no error occured\n",
    "    weibo_dest_path = weibo_abs_path + \"_Result/\"\n",
    "    weibo_dicts = generate_docset_vec(weibo_dest_path , weibo_count , True)\n",
    "    news_dest_path = news_abs_path + \"_Result/\"\n",
    "    news_dicts = generate_docset_vec(news_dest_path , news_count , True)\n",
    "\n",
    "    #Now we have 2 dictionary sets, Go for every news to prepare for processing\n",
    "    #Create SFrame for News for storaging\n",
    "    news_data = graphlab.SFrame()\n",
    "    news_data['raw_dict'] = news_dicts\n",
    "    news_nns = []\n",
    "    #\n",
    "    for i in range(news_count):\n",
    "        temp_nns = find_NN(news_dicts[i] , weibo_dicts)\n",
    "        news_nns.append(temp_nns)\n",
    "    news_data['assign_weibos'] = news_nns\n",
    "    return news_data\n"
   ]
  },
  {
   "cell_type": "code",
   "execution_count": null,
   "metadata": {
    "collapsed": true
   },
   "outputs": [],
   "source": []
  },
  {
   "cell_type": "code",
   "execution_count": null,
   "metadata": {
    "collapsed": true
   },
   "outputs": [],
   "source": []
  }
 ],
 "metadata": {
  "kernelspec": {
   "display_name": "Python 2",
   "language": "python",
   "name": "python2"
  },
  "language_info": {
   "codemirror_mode": {
    "name": "ipython",
    "version": 2
   },
   "file_extension": ".py",
   "mimetype": "text/x-python",
   "name": "python",
   "nbconvert_exporter": "python",
   "pygments_lexer": "ipython2",
   "version": "2.7.6"
  }
 },
 "nbformat": 4,
 "nbformat_minor": 0
}
